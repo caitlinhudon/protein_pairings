{
 "cells": [
  {
   "cell_type": "code",
   "execution_count": 3,
   "metadata": {
    "collapsed": true
   },
   "outputs": [],
   "source": [
    "protein_combos = {\n",
    "    \"grains\": (\"legumes\", \"dairy\"),\n",
    "    \"legumes\": (\"nuts\", \"seeds\", \"grains\"),\n",
    "    \"nuts\": \"legumes\",\n",
    "    \"dairy\": \"grains\",\n",
    "    \"seeds\": \"legumes\"\n",
    "}\n",
    "\n",
    "list_of_foods = {\n",
    "    \"grains\": [\"rice\", \"teff\", \"oats\", \"sorghum\",\n",
    "              \"millet\", \"wheat\", \"rye\", \"barley\", \n",
    "              \"bran\", \"bulgur\", \"couscous\",\n",
    "              \"orzo\"],\n",
    "    \"nuts\": [\"almonds\", \"walnuts\", \"brazil nuts\", \"cashews\",\n",
    "            \"chestnuts\", \"hazelnuts\", \"macadamia nuts\",\n",
    "            \"pine nuts\", \"pecans\", \"pistachios\",],\n",
    "    \"legumes\": [\"peanuts\", \"green beans\", \"lentils\", \"peas\",\n",
    "               \"soybeans\", \"snow peas\", \"snap peas\", \n",
    "               \"black beans\", \"chickpeas\", \"kidney beans\",\n",
    "               \"pinto beans\", \"lima beans\", \"garbanzo beans\",\n",
    "               ],\n",
    "    \"dairy\": [\"cheese\", \"greek yogurt\"],\n",
    "    \"seeds\": [\"chia seeds\", \"sunflower seeds\"]\n",
    "}\n",
    "\n",
    "input_foods = \"bread\""
   ]
  },
  {
   "cell_type": "code",
   "execution_count": null,
   "metadata": {
    "collapsed": true
   },
   "outputs": [],
   "source": [
    "\"Legumes are plants with seeds in pods\""
   ]
  },
  {
   "cell_type": "code",
   "execution_count": 29,
   "metadata": {
    "collapsed": false
   },
   "outputs": [
    {
     "data": {
      "text/plain": [
       "[]"
      ]
     },
     "execution_count": 29,
     "metadata": {},
     "output_type": "execute_result"
    }
   ],
   "source": [
    "type(protein_combos)\n",
    "type(list_of_foods)\n",
    "\n",
    "protein_consumed = [key for key, value in protein_combos.items() if value == input_foods]\n",
    "protein_consumed\n",
    "\n"
   ]
  },
  {
   "cell_type": "code",
   "execution_count": 14,
   "metadata": {
    "collapsed": false
   },
   "outputs": [],
   "source": [
    "def eat_these_foods():\n",
    "    # Determine the proteins in the meal\n",
    "    proteins_consumed = []\n",
    "    for input_food in input_foods:\n",
    "        proteins_consumed += list_of_foods.items()\n",
    "    \n",
    "    return proteins_consumed\n",
    "\n",
    "\n",
    "# neg = {'transit': 1, 'infect': [4, 5], 'spam': 6}\n",
    "# pos =  {'transit': 3, 'infect': 5, 'spam': 2}\n",
    "# result = {}\n",
    "# for k,v in neg.items():\n",
    "#     result[k] = [v,pos[k]]\n",
    "# result # {'spam': [6, 2], 'transit': [1, 3], 'infect': [4, 5]}\n",
    "    "
   ]
  },
  {
   "cell_type": "code",
   "execution_count": 15,
   "metadata": {
    "collapsed": false
   },
   "outputs": [
    {
     "data": {
      "text/plain": [
       "[('grains', ['bread', 'rice']),\n",
       " ('dairy', ['cheese', 'greek yogurt']),\n",
       " ('nuts', ['almonds', 'walnuts']),\n",
       " ('legumes', ['peanuts', 'other_legumes']),\n",
       " ('seeds', ['chia seeds', 'sunflower seeds']),\n",
       " ('grains', ['bread', 'rice']),\n",
       " ('dairy', ['cheese', 'greek yogurt']),\n",
       " ('nuts', ['almonds', 'walnuts']),\n",
       " ('legumes', ['peanuts', 'other_legumes']),\n",
       " ('seeds', ['chia seeds', 'sunflower seeds']),\n",
       " ('grains', ['bread', 'rice']),\n",
       " ('dairy', ['cheese', 'greek yogurt']),\n",
       " ('nuts', ['almonds', 'walnuts']),\n",
       " ('legumes', ['peanuts', 'other_legumes']),\n",
       " ('seeds', ['chia seeds', 'sunflower seeds']),\n",
       " ('grains', ['bread', 'rice']),\n",
       " ('dairy', ['cheese', 'greek yogurt']),\n",
       " ('nuts', ['almonds', 'walnuts']),\n",
       " ('legumes', ['peanuts', 'other_legumes']),\n",
       " ('seeds', ['chia seeds', 'sunflower seeds']),\n",
       " ('grains', ['bread', 'rice']),\n",
       " ('dairy', ['cheese', 'greek yogurt']),\n",
       " ('nuts', ['almonds', 'walnuts']),\n",
       " ('legumes', ['peanuts', 'other_legumes']),\n",
       " ('seeds', ['chia seeds', 'sunflower seeds'])]"
      ]
     },
     "execution_count": 15,
     "metadata": {},
     "output_type": "execute_result"
    }
   ],
   "source": [
    "output = eat_these_foods()\n",
    "output"
   ]
  },
  {
   "cell_type": "code",
   "execution_count": null,
   "metadata": {
    "collapsed": true
   },
   "outputs": [],
   "source": [
    "# Returns a (potentially empty) list of Strings\n",
    "def eat_these_foods() {\n",
    "    # Determine the proteins in the meal\n",
    "    proteins_consumed = []\n",
    "    for input_food in input_foods:\n",
    "        proteins_consumed += list_of_foods.keyForObject(input_foods)\n",
    "\n",
    "    # Determine the superset of neded proteins\n",
    "    proteins_needed = []\n",
    "    for food in input_food:\n",
    "        proteins_needed += protein_combos[food]\n",
    "\n",
    "    # Filter out the proteins in the meal\n",
    "    for needed_protein in proteins_needed:\n",
    "        if needed_protein in proteins_consumed:\n",
    "            proteins_needed -= needed_protein\n",
    "\n",
    "    # Construct lists of foods for each needed protein\n",
    "    foods_to_eat = []\n",
    "    for protein_needed in proteins_needed:\n",
    "        foods_to_eat += list_of_foods[protein]\n",
    "\n",
    "    return foods_to_eat\n",
    "}"
   ]
  }
 ],
 "metadata": {
  "kernelspec": {
   "display_name": "Python [Root]",
   "language": "python",
   "name": "Python [Root]"
  },
  "language_info": {
   "codemirror_mode": {
    "name": "ipython",
    "version": 3
   },
   "file_extension": ".py",
   "mimetype": "text/x-python",
   "name": "python",
   "nbconvert_exporter": "python",
   "pygments_lexer": "ipython3",
   "version": "3.5.2"
  }
 },
 "nbformat": 4,
 "nbformat_minor": 0
}
